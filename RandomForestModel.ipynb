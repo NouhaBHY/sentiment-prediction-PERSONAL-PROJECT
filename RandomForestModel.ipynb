{
  "cells": [
    {
      "cell_type": "markdown",
      "metadata": {
        "id": "9h26cflqF4DU"
      },
      "source": [
        "##Import libraries"
      ]
    },
    {
      "cell_type": "code",
      "execution_count": 7,
      "metadata": {
        "colab": {
          "base_uri": "https://localhost:8080/"
        },
        "id": "N15_3DO8Deju",
        "outputId": "7fcea7b2-030a-41e4-a9af-f2cf5496217c"
      },
      "outputs": [
        {
          "name": "stderr",
          "output_type": "stream",
          "text": [
            "[nltk_data] Downloading package punkt to /root/nltk_data...\n",
            "[nltk_data]   Package punkt is already up-to-date!\n",
            "[nltk_data] Downloading package stopwords to /root/nltk_data...\n",
            "[nltk_data]   Package stopwords is already up-to-date!\n"
          ]
        }
      ],
      "source": [
        "import pandas as pd\n",
        "import numpy as np\n",
        "from sklearn.model_selection import train_test_split\n",
        "from sklearn.metrics import accuracy_score, classification_report\n",
        "from nltk.tokenize import word_tokenize\n",
        "import nltk\n",
        "nltk.download('punkt')\n",
        "pd.set_option('display.max_columns', None)\n",
        "from nltk.corpus import stopwords\n",
        "nltk.download('stopwords')\n",
        "from sklearn.preprocessing import StandardScaler\n",
        "from sklearn.model_selection import KFold , cross_val_predict\n",
        "from imblearn.over_sampling import RandomOverSampler\n",
        "from sklearn.pipeline import Pipeline\n",
        "from sklearn.ensemble import RandomForestClassifier  # Import Random Forest classifier\n",
        "from sklearn.metrics import accuracy_score, precision_score, confusion_matrix, roc_curve, auc, recall_score\n",
        "import matplotlib.pyplot as plt\n",
        "import seaborn as sns"
      ]
    },
    {
      "cell_type": "markdown",
      "metadata": {
        "id": "MMExuwarF7vd"
      },
      "source": [
        "##Load data"
      ]
    },
    {
      "cell_type": "code",
      "execution_count": null,
      "metadata": {
        "id": "B-VLnZ2MDlrt"
      },
      "outputs": [],
      "source": [
        "data = pd.read_csv('/content/drive/MyDrive/sentiment_tweets3.csv')"
      ]
    },
    {
      "cell_type": "code",
      "execution_count": 9,
      "metadata": {
        "id": "42m1NgV4EBPO"
      },
      "outputs": [],
      "source": [
        "# Rename two columns\n",
        "data.rename(columns={'message to examine': 'message', 'label (depression result)': 'label'}, inplace=True)"
      ]
    },
    {
      "cell_type": "code",
      "execution_count": 10,
      "metadata": {
        "id": "8RbbDw8RENeN"
      },
      "outputs": [],
      "source": [
        "data1 = data[['message', 'label']]"
      ]
    },
    {
      "cell_type": "code",
      "execution_count": null,
      "metadata": {
        "id": "DQ4XPs6kEPx6"
      },
      "outputs": [],
      "source": [
        "data1.dropna(inplace=True)"
      ]
    },
    {
      "cell_type": "markdown",
      "metadata": {
        "id": "uTkZceqZGAm8"
      },
      "source": [
        "##Text preprocessing"
      ]
    },
    {
      "cell_type": "code",
      "execution_count": null,
      "metadata": {
        "id": "IenSeIHeESi1"
      },
      "outputs": [],
      "source": [
        "data1['message'] = data1['message'].apply(lambda x: ' '.join(word.lower() for word in word_tokenize(x) if word.isalpha()))"
      ]
    },
    {
      "cell_type": "code",
      "execution_count": 13,
      "metadata": {
        "id": "fi6QurRiEUJN"
      },
      "outputs": [],
      "source": [
        "stop_words = stopwords.words('english')"
      ]
    },
    {
      "cell_type": "code",
      "execution_count": null,
      "metadata": {
        "id": "dhjKX5byEWey"
      },
      "outputs": [],
      "source": [
        "data1['message'] = data1['message'].apply(lambda x: ' '.join(word for word in word_tokenize(x) if word not in stop_words))"
      ]
    },
    {
      "cell_type": "code",
      "execution_count": null,
      "metadata": {
        "id": "Gm61pIFEEYjp"
      },
      "outputs": [],
      "source": [
        "# Stemming\n",
        "from nltk.stem import PorterStemmer\n",
        "stemmer = PorterStemmer()\n",
        "data1['message'] = data1['message'].apply(lambda x: ' '.join(stemmer.stem(word) for word in word_tokenize(x)))"
      ]
    },
    {
      "cell_type": "markdown",
      "metadata": {
        "id": "KBHl1hdrGFUZ"
      },
      "source": [
        "##KFOLD cross validation"
      ]
    },
    {
      "cell_type": "code",
      "execution_count": 16,
      "metadata": {
        "id": "aYLpOCYcEbMq"
      },
      "outputs": [],
      "source": [
        "# Set 'X' as the 'message' column and 'y' as the 'label' column\n",
        "X = data1['message']\n",
        "y = data1['label']"
      ]
    },
    {
      "cell_type": "code",
      "execution_count": 17,
      "metadata": {
        "id": "63yUAXxrEgWW"
      },
      "outputs": [],
      "source": [
        "from sklearn.utils import shuffle\n",
        "#Trying KFOLDS : to separate out into 3 folds, each has train and test sets\n",
        "kf = KFold(shuffle=True, random_state=7218, n_splits =3)"
      ]
    },
    {
      "cell_type": "markdown",
      "metadata": {
        "id": "xrtAYOIWGL21"
      },
      "source": [
        "##GloVe for Feature Engineering / Text Representation"
      ]
    },
    {
      "cell_type": "code",
      "execution_count": 18,
      "metadata": {
        "id": "kFcNxW8xEgcx"
      },
      "outputs": [],
      "source": [
        "# Define the path to the GloVe file containing pre-trained word vectors (must be downloaded from GloVe website)\n",
        "glove_file = '/glove/glove.6B.100d.txt'"
      ]
    },
    {
      "cell_type": "code",
      "execution_count": 19,
      "metadata": {
        "id": "Y_HgzqXsEnO3"
      },
      "outputs": [],
      "source": [
        "# Create an empty dictionary to store word vectors from the GloVe file\n",
        "glove_vectors = {}\n",
        "# Open the GloVe file, read each line, and store word vectors in the dictionary\n",
        "try:\n",
        "  with open(glove_file, 'r', encoding='utf-8') as file:\n",
        "      for line in file:\n",
        "          values = line.split()       #Splits each line into a list of strings using whitespace as the default separator.\n",
        "                                      #The line represents a word followed by its corresponding vector values in the file.\n",
        "          word = values[0]                            #Retrieves the first element from the values list, which is the word itself\n",
        "          vector = np.array(values[1:], dtype='float32') # [float(val) for val in values[1:]]               #Constructs a list comprehension to convert the string values in values[1:] (excluding the first element which is the word) to floating-point numbers (floats). These are the components of the word's vector representation\n",
        "          glove_vectors[word] = vector                 #Assigns the word as the key and its associated vector (a list of float values) as the value in the glove_vectors dictionary\n",
        "except FileNotFoundError:\n",
        "    print(f\"File {glove_file} not found.\")\n",
        "except Exception as e:\n",
        "    print(f\"An error occurred: {str(e)}\")"
      ]
    },
    {
      "cell_type": "code",
      "execution_count": 20,
      "metadata": {
        "id": "kxvgcrIDEqAk"
      },
      "outputs": [],
      "source": [
        "# define a function to convert our text data to GloVe word embeddings\n",
        "# vectorization\n",
        "def text_to_embeddings(text, word_vectors, embedding_dim=100):  #size of the vectors (vectors == embeddings)\n",
        "    embeddings = [word_vectors.get(word, np.zeros(embedding_dim)) for word in word_tokenize(text)]\n",
        "\n",
        "    if not embeddings:\n",
        "        return np.zeros(embedding_dim)\n",
        "\n",
        "    return np.mean(embeddings, axis=0)"
      ]
    },
    {
      "cell_type": "markdown",
      "metadata": {
        "id": "Gp5hO14HGRNL"
      },
      "source": [
        "##Train & validation :\n",
        "\n",
        "Scaling our data\n",
        "\n",
        "Define our classifier"
      ]
    },
    {
      "cell_type": "code",
      "execution_count": 21,
      "metadata": {
        "id": "0DW6Iif-ErQM"
      },
      "outputs": [],
      "source": [
        "# Lists to store results from each fold\n",
        "accuracy_scores=[]\n",
        "precision_scores=[]\n",
        "recall_scores=[]\n",
        "\n",
        "# Lists to store true and predicted labels for confusion matrix\n",
        "all_y_true = []\n",
        "all_y_pred = []\n",
        "conf_matrix =[]\n",
        "\n",
        "# Standardizing and using SVM classifier\n",
        "s = StandardScaler()\n",
        "rf_classifier = RandomForestClassifier(n_estimators=100, bootstrap=True, min_samples_split=2, random_state=42)"
      ]
    },
    {
      "cell_type": "code",
      "execution_count": 22,
      "metadata": {
        "colab": {
          "base_uri": "https://localhost:8080/",
          "height": 1000
        },
        "id": "ZTcFHekS82SO",
        "outputId": "0291d85f-2ec7-44d4-c216-2b81825c2619"
      },
      "outputs": [
        {
          "name": "stdout",
          "output_type": "stream",
          "text": [
            "accuracy_scores\n",
            "[0.9450261780104712, 0.9456079115764979, 0.9476439790575916]\n",
            "precision_scores\n",
            "[0.9458737137402059, 0.9466381177425733, 0.9484654840616304]\n",
            "recall\n",
            "[0.9450261780104712, 0.9456079115764979, 0.9476439790575916]\n",
            "conf_matrix_kfold \n",
            " [[7932   68]\n",
            " [ 488 1826]]\n"
          ]
        },
        {
          "data": {
            "image/png": "[encoded data removed]",
            "text/plain": [
              "<Figure size 1200x400 with 3 Axes>"
            ]
          },
          "metadata": {},
          "output_type": "display_data"
        },
        {
          "data": {
            "image/png": "[encoded data removed]",
            "text/plain": [
              "<Figure size 800x600 with 2 Axes>"
            ]
          },
          "metadata": {},
          "output_type": "display_data"
        }
      ],
      "source": [
        "# For each fold, split our X into train & validation\n",
        "for train_index, val_index in kf.split(X):\n",
        "\n",
        "  # split our X switch the indexes\n",
        "  X_train, X_val, y_train, y_val =(X[train_index], X[val_index], y[train_index], y[val_index])\n",
        "\n",
        "  # Apply our defined function : \"text_to_embeddings\" to x_train & x_val\n",
        "  X_train_embedded = np.array([text_to_embeddings(text, glove_vectors) for text in X_train])\n",
        "  X_val_embedded = np.array([text_to_embeddings(text, glove_vectors) for text in X_val])\n",
        "\n",
        "  # Using RandomOverSampler to oversample the minority class\n",
        "  oversampler = RandomOverSampler(sampling_strategy='auto', random_state=42)\n",
        "  X_train_resampled, y_train_resampled = oversampler.fit_resample(X_train_embedded, y_train)\n",
        "\n",
        "  # Define our pipeline : scaling then, svm classifier\n",
        "  estimator = Pipeline([('scale', s), ('rf', rf_classifier)])\n",
        "\n",
        "  # Fit and then predict for each fold\n",
        "  estimator.fit(X_train_resampled, y_train_resampled)\n",
        "  y_pred = estimator.predict(X_val_embedded)\n",
        "\n",
        "  accuracy_fold = accuracy_score(y_val, y_pred)\n",
        "  accuracy_scores.append(accuracy_fold)\n",
        "\n",
        "  # Calculate recall for the fold\n",
        "  recall_fold = recall_score(y_val, y_pred, average='weighted')\n",
        "  recall_scores.append(recall_fold)\n",
        "\n",
        "  precision_fold = precision_score(y_val, y_pred, average='weighted')\n",
        "  precision_scores.append(precision_fold)\n",
        "\n",
        "  # Conf matrix : Append true and predicted labels to the lists\n",
        "  all_y_true.extend(y_val)\n",
        "  all_y_pred.extend(y_pred)\n",
        "\n",
        "# Conf matrix : Generate the overall confusion matrix for k-fold cross-validation\n",
        "conf_matrix_kfold = confusion_matrix(all_y_true, all_y_pred)\n",
        "#true label being i-th class and predicted label being j-th class\n",
        "\n",
        "print(\"accuracy_scores\")\n",
        "print(accuracy_scores)\n",
        "print(\"precision_scores\")\n",
        "print(precision_scores)\n",
        "print(\"recall\")\n",
        "print(recall_scores)\n",
        "print(\"conf_matrix_kfold \\n\", conf_matrix_kfold)\n",
        "\n",
        "# Visualize metrics\n",
        "plt.figure(figsize=(12, 4))\n",
        "\n",
        "# Accuracy plot\n",
        "plt.subplot(1, 3, 1)\n",
        "sns.boxplot(x=accuracy_scores)\n",
        "plt.title('Accuracy Distribution')\n",
        "\n",
        "# Precision plot\n",
        "plt.subplot(1, 3, 2)\n",
        "sns.boxplot(x=precision_scores)\n",
        "plt.title('Precision Distribution')\n",
        "\n",
        "# recall Score plot\n",
        "plt.subplot(1, 3, 3)\n",
        "sns.boxplot(x=recall_scores)\n",
        "plt.title('Recall Score Distribution')\n",
        "\n",
        "plt.tight_layout()\n",
        "plt.show()\n",
        "\n",
        "# Visualize confusion matrix\n",
        "plt.figure(figsize=(8, 6))\n",
        "sns.heatmap(conf_matrix_kfold, annot=True, fmt='d', xticklabels=['Class 0', 'Class 1'], yticklabels=['Class 0', 'Class 1'])\n",
        "plt.title('Confusion Matrix')\n",
        "plt.xlabel('Predicted Label')\n",
        "plt.ylabel('True Label')\n",
        "plt.show()"
      ]
    }
  ],
  "metadata": {
    "colab": {
      "provenance": []
    },
    "kernelspec": {
      "display_name": "Python 3",
      "name": "python3"
    },
    "language_info": {
      "name": "python"
    }
  },
  "nbformat": 4,
  "nbformat_minor": 0
}
